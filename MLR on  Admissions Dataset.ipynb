{
 "cells": [
  {
   "cell_type": "code",
   "execution_count": 1,
   "id": "d5531b30",
   "metadata": {},
   "outputs": [
    {
     "name": "stderr",
     "output_type": "stream",
     "text": [
      "C:\\Users\\nural\\Anaconda3\\lib\\site-packages\\pandas\\core\\computation\\expressions.py:21: UserWarning: Pandas requires version '2.8.4' or newer of 'numexpr' (version '2.8.3' currently installed).\n",
      "  from pandas.core.computation.check import NUMEXPR_INSTALLED\n",
      "C:\\Users\\nural\\Anaconda3\\lib\\site-packages\\pandas\\core\\arrays\\masked.py:60: UserWarning: Pandas requires version '1.3.6' or newer of 'bottleneck' (version '1.3.5' currently installed).\n",
      "  from pandas.core import (\n"
     ]
    }
   ],
   "source": [
    "# Importing Basic Libraries \n",
    "\n",
    "import pandas as pd\n",
    "import numpy as np\n",
    "import seaborn as sns\n",
    "import matplotlib.pyplot as plt"
   ]
  },
  {
   "cell_type": "code",
   "execution_count": 2,
   "id": "99a99e6e",
   "metadata": {},
   "outputs": [],
   "source": [
    "# Load  the dataset \n",
    "\n",
    "admission_df =pd.read_csv(\"C://Users//nural//Downloads//Admission_Predict.csv\")"
   ]
  },
  {
   "cell_type": "code",
   "execution_count": 3,
   "id": "b9aea97b",
   "metadata": {},
   "outputs": [
    {
     "data": {
      "text/html": [
       "<div>\n",
       "<style scoped>\n",
       "    .dataframe tbody tr th:only-of-type {\n",
       "        vertical-align: middle;\n",
       "    }\n",
       "\n",
       "    .dataframe tbody tr th {\n",
       "        vertical-align: top;\n",
       "    }\n",
       "\n",
       "    .dataframe thead th {\n",
       "        text-align: right;\n",
       "    }\n",
       "</style>\n",
       "<table border=\"1\" class=\"dataframe\">\n",
       "  <thead>\n",
       "    <tr style=\"text-align: right;\">\n",
       "      <th></th>\n",
       "      <th>Serial No.</th>\n",
       "      <th>GRE Score</th>\n",
       "      <th>TOEFL Score</th>\n",
       "      <th>University Rating</th>\n",
       "      <th>SOP</th>\n",
       "      <th>LOR</th>\n",
       "      <th>CGPA</th>\n",
       "      <th>Research</th>\n",
       "      <th>Chance of Admit</th>\n",
       "    </tr>\n",
       "  </thead>\n",
       "  <tbody>\n",
       "    <tr>\n",
       "      <th>0</th>\n",
       "      <td>1</td>\n",
       "      <td>337</td>\n",
       "      <td>118</td>\n",
       "      <td>4</td>\n",
       "      <td>4.5</td>\n",
       "      <td>4.5</td>\n",
       "      <td>9.65</td>\n",
       "      <td>1</td>\n",
       "      <td>0.92</td>\n",
       "    </tr>\n",
       "    <tr>\n",
       "      <th>1</th>\n",
       "      <td>2</td>\n",
       "      <td>324</td>\n",
       "      <td>107</td>\n",
       "      <td>4</td>\n",
       "      <td>4.0</td>\n",
       "      <td>4.5</td>\n",
       "      <td>8.87</td>\n",
       "      <td>1</td>\n",
       "      <td>0.76</td>\n",
       "    </tr>\n",
       "    <tr>\n",
       "      <th>2</th>\n",
       "      <td>3</td>\n",
       "      <td>316</td>\n",
       "      <td>104</td>\n",
       "      <td>3</td>\n",
       "      <td>3.0</td>\n",
       "      <td>3.5</td>\n",
       "      <td>8.00</td>\n",
       "      <td>1</td>\n",
       "      <td>0.72</td>\n",
       "    </tr>\n",
       "    <tr>\n",
       "      <th>3</th>\n",
       "      <td>4</td>\n",
       "      <td>322</td>\n",
       "      <td>110</td>\n",
       "      <td>3</td>\n",
       "      <td>3.5</td>\n",
       "      <td>2.5</td>\n",
       "      <td>8.67</td>\n",
       "      <td>1</td>\n",
       "      <td>0.80</td>\n",
       "    </tr>\n",
       "    <tr>\n",
       "      <th>4</th>\n",
       "      <td>5</td>\n",
       "      <td>314</td>\n",
       "      <td>103</td>\n",
       "      <td>2</td>\n",
       "      <td>2.0</td>\n",
       "      <td>3.0</td>\n",
       "      <td>8.21</td>\n",
       "      <td>0</td>\n",
       "      <td>0.65</td>\n",
       "    </tr>\n",
       "  </tbody>\n",
       "</table>\n",
       "</div>"
      ],
      "text/plain": [
       "   Serial No.  GRE Score  TOEFL Score  University Rating  SOP  LOR   CGPA  \\\n",
       "0           1        337          118                  4  4.5   4.5  9.65   \n",
       "1           2        324          107                  4  4.0   4.5  8.87   \n",
       "2           3        316          104                  3  3.0   3.5  8.00   \n",
       "3           4        322          110                  3  3.5   2.5  8.67   \n",
       "4           5        314          103                  2  2.0   3.0  8.21   \n",
       "\n",
       "   Research  Chance of Admit  \n",
       "0         1             0.92  \n",
       "1         1             0.76  \n",
       "2         1             0.72  \n",
       "3         1             0.80  \n",
       "4         0             0.65  "
      ]
     },
     "execution_count": 3,
     "metadata": {},
     "output_type": "execute_result"
    }
   ],
   "source": [
    "# EDA \n",
    "\n",
    "admission_df.head()"
   ]
  },
  {
   "cell_type": "code",
   "execution_count": 4,
   "id": "9592c4d8",
   "metadata": {},
   "outputs": [
    {
     "data": {
      "text/html": [
       "<div>\n",
       "<style scoped>\n",
       "    .dataframe tbody tr th:only-of-type {\n",
       "        vertical-align: middle;\n",
       "    }\n",
       "\n",
       "    .dataframe tbody tr th {\n",
       "        vertical-align: top;\n",
       "    }\n",
       "\n",
       "    .dataframe thead th {\n",
       "        text-align: right;\n",
       "    }\n",
       "</style>\n",
       "<table border=\"1\" class=\"dataframe\">\n",
       "  <thead>\n",
       "    <tr style=\"text-align: right;\">\n",
       "      <th></th>\n",
       "      <th>Serial No.</th>\n",
       "      <th>GRE Score</th>\n",
       "      <th>TOEFL Score</th>\n",
       "      <th>University Rating</th>\n",
       "      <th>SOP</th>\n",
       "      <th>LOR</th>\n",
       "      <th>CGPA</th>\n",
       "      <th>Research</th>\n",
       "      <th>Chance of Admit</th>\n",
       "    </tr>\n",
       "  </thead>\n",
       "  <tbody>\n",
       "    <tr>\n",
       "      <th>0</th>\n",
       "      <td>1</td>\n",
       "      <td>337</td>\n",
       "      <td>118</td>\n",
       "      <td>4</td>\n",
       "      <td>4.5</td>\n",
       "      <td>4.5</td>\n",
       "      <td>9.65</td>\n",
       "      <td>1</td>\n",
       "      <td>0.92</td>\n",
       "    </tr>\n",
       "    <tr>\n",
       "      <th>1</th>\n",
       "      <td>2</td>\n",
       "      <td>324</td>\n",
       "      <td>107</td>\n",
       "      <td>4</td>\n",
       "      <td>4.0</td>\n",
       "      <td>4.5</td>\n",
       "      <td>8.87</td>\n",
       "      <td>1</td>\n",
       "      <td>0.76</td>\n",
       "    </tr>\n",
       "    <tr>\n",
       "      <th>2</th>\n",
       "      <td>3</td>\n",
       "      <td>316</td>\n",
       "      <td>104</td>\n",
       "      <td>3</td>\n",
       "      <td>3.0</td>\n",
       "      <td>3.5</td>\n",
       "      <td>8.00</td>\n",
       "      <td>1</td>\n",
       "      <td>0.72</td>\n",
       "    </tr>\n",
       "    <tr>\n",
       "      <th>3</th>\n",
       "      <td>4</td>\n",
       "      <td>322</td>\n",
       "      <td>110</td>\n",
       "      <td>3</td>\n",
       "      <td>3.5</td>\n",
       "      <td>2.5</td>\n",
       "      <td>8.67</td>\n",
       "      <td>1</td>\n",
       "      <td>0.80</td>\n",
       "    </tr>\n",
       "    <tr>\n",
       "      <th>4</th>\n",
       "      <td>5</td>\n",
       "      <td>314</td>\n",
       "      <td>103</td>\n",
       "      <td>2</td>\n",
       "      <td>2.0</td>\n",
       "      <td>3.0</td>\n",
       "      <td>8.21</td>\n",
       "      <td>0</td>\n",
       "      <td>0.65</td>\n",
       "    </tr>\n",
       "    <tr>\n",
       "      <th>5</th>\n",
       "      <td>6</td>\n",
       "      <td>330</td>\n",
       "      <td>115</td>\n",
       "      <td>5</td>\n",
       "      <td>4.5</td>\n",
       "      <td>3.0</td>\n",
       "      <td>9.34</td>\n",
       "      <td>1</td>\n",
       "      <td>0.90</td>\n",
       "    </tr>\n",
       "    <tr>\n",
       "      <th>6</th>\n",
       "      <td>7</td>\n",
       "      <td>321</td>\n",
       "      <td>109</td>\n",
       "      <td>3</td>\n",
       "      <td>3.0</td>\n",
       "      <td>4.0</td>\n",
       "      <td>8.20</td>\n",
       "      <td>1</td>\n",
       "      <td>0.75</td>\n",
       "    </tr>\n",
       "    <tr>\n",
       "      <th>7</th>\n",
       "      <td>8</td>\n",
       "      <td>308</td>\n",
       "      <td>101</td>\n",
       "      <td>2</td>\n",
       "      <td>3.0</td>\n",
       "      <td>4.0</td>\n",
       "      <td>7.90</td>\n",
       "      <td>0</td>\n",
       "      <td>0.68</td>\n",
       "    </tr>\n",
       "    <tr>\n",
       "      <th>8</th>\n",
       "      <td>9</td>\n",
       "      <td>302</td>\n",
       "      <td>102</td>\n",
       "      <td>1</td>\n",
       "      <td>2.0</td>\n",
       "      <td>1.5</td>\n",
       "      <td>8.00</td>\n",
       "      <td>0</td>\n",
       "      <td>0.50</td>\n",
       "    </tr>\n",
       "    <tr>\n",
       "      <th>9</th>\n",
       "      <td>10</td>\n",
       "      <td>323</td>\n",
       "      <td>108</td>\n",
       "      <td>3</td>\n",
       "      <td>3.5</td>\n",
       "      <td>3.0</td>\n",
       "      <td>8.60</td>\n",
       "      <td>0</td>\n",
       "      <td>0.45</td>\n",
       "    </tr>\n",
       "  </tbody>\n",
       "</table>\n",
       "</div>"
      ],
      "text/plain": [
       "   Serial No.  GRE Score  TOEFL Score  University Rating  SOP  LOR   CGPA  \\\n",
       "0           1        337          118                  4  4.5   4.5  9.65   \n",
       "1           2        324          107                  4  4.0   4.5  8.87   \n",
       "2           3        316          104                  3  3.0   3.5  8.00   \n",
       "3           4        322          110                  3  3.5   2.5  8.67   \n",
       "4           5        314          103                  2  2.0   3.0  8.21   \n",
       "5           6        330          115                  5  4.5   3.0  9.34   \n",
       "6           7        321          109                  3  3.0   4.0  8.20   \n",
       "7           8        308          101                  2  3.0   4.0  7.90   \n",
       "8           9        302          102                  1  2.0   1.5  8.00   \n",
       "9          10        323          108                  3  3.5   3.0  8.60   \n",
       "\n",
       "   Research  Chance of Admit  \n",
       "0         1             0.92  \n",
       "1         1             0.76  \n",
       "2         1             0.72  \n",
       "3         1             0.80  \n",
       "4         0             0.65  \n",
       "5         1             0.90  \n",
       "6         1             0.75  \n",
       "7         0             0.68  \n",
       "8         0             0.50  \n",
       "9         0             0.45  "
      ]
     },
     "execution_count": 4,
     "metadata": {},
     "output_type": "execute_result"
    }
   ],
   "source": [
    "admission_df.head(10)"
   ]
  },
  {
   "cell_type": "code",
   "execution_count": 5,
   "id": "bfbd2ffa",
   "metadata": {},
   "outputs": [
    {
     "data": {
      "text/html": [
       "<div>\n",
       "<style scoped>\n",
       "    .dataframe tbody tr th:only-of-type {\n",
       "        vertical-align: middle;\n",
       "    }\n",
       "\n",
       "    .dataframe tbody tr th {\n",
       "        vertical-align: top;\n",
       "    }\n",
       "\n",
       "    .dataframe thead th {\n",
       "        text-align: right;\n",
       "    }\n",
       "</style>\n",
       "<table border=\"1\" class=\"dataframe\">\n",
       "  <thead>\n",
       "    <tr style=\"text-align: right;\">\n",
       "      <th></th>\n",
       "      <th>Serial No.</th>\n",
       "      <th>GRE Score</th>\n",
       "      <th>TOEFL Score</th>\n",
       "      <th>University Rating</th>\n",
       "      <th>SOP</th>\n",
       "      <th>LOR</th>\n",
       "      <th>CGPA</th>\n",
       "      <th>Research</th>\n",
       "      <th>Chance of Admit</th>\n",
       "    </tr>\n",
       "  </thead>\n",
       "  <tbody>\n",
       "    <tr>\n",
       "      <th>495</th>\n",
       "      <td>496</td>\n",
       "      <td>332</td>\n",
       "      <td>108</td>\n",
       "      <td>5</td>\n",
       "      <td>4.5</td>\n",
       "      <td>4.0</td>\n",
       "      <td>9.02</td>\n",
       "      <td>1</td>\n",
       "      <td>0.87</td>\n",
       "    </tr>\n",
       "    <tr>\n",
       "      <th>496</th>\n",
       "      <td>497</td>\n",
       "      <td>337</td>\n",
       "      <td>117</td>\n",
       "      <td>5</td>\n",
       "      <td>5.0</td>\n",
       "      <td>5.0</td>\n",
       "      <td>9.87</td>\n",
       "      <td>1</td>\n",
       "      <td>0.96</td>\n",
       "    </tr>\n",
       "    <tr>\n",
       "      <th>497</th>\n",
       "      <td>498</td>\n",
       "      <td>330</td>\n",
       "      <td>120</td>\n",
       "      <td>5</td>\n",
       "      <td>4.5</td>\n",
       "      <td>5.0</td>\n",
       "      <td>9.56</td>\n",
       "      <td>1</td>\n",
       "      <td>0.93</td>\n",
       "    </tr>\n",
       "    <tr>\n",
       "      <th>498</th>\n",
       "      <td>499</td>\n",
       "      <td>312</td>\n",
       "      <td>103</td>\n",
       "      <td>4</td>\n",
       "      <td>4.0</td>\n",
       "      <td>5.0</td>\n",
       "      <td>8.43</td>\n",
       "      <td>0</td>\n",
       "      <td>0.73</td>\n",
       "    </tr>\n",
       "    <tr>\n",
       "      <th>499</th>\n",
       "      <td>500</td>\n",
       "      <td>327</td>\n",
       "      <td>113</td>\n",
       "      <td>4</td>\n",
       "      <td>4.5</td>\n",
       "      <td>4.5</td>\n",
       "      <td>9.04</td>\n",
       "      <td>0</td>\n",
       "      <td>0.84</td>\n",
       "    </tr>\n",
       "  </tbody>\n",
       "</table>\n",
       "</div>"
      ],
      "text/plain": [
       "     Serial No.  GRE Score  TOEFL Score  University Rating  SOP  LOR   CGPA  \\\n",
       "495         496        332          108                  5  4.5   4.0  9.02   \n",
       "496         497        337          117                  5  5.0   5.0  9.87   \n",
       "497         498        330          120                  5  4.5   5.0  9.56   \n",
       "498         499        312          103                  4  4.0   5.0  8.43   \n",
       "499         500        327          113                  4  4.5   4.5  9.04   \n",
       "\n",
       "     Research  Chance of Admit  \n",
       "495         1             0.87  \n",
       "496         1             0.96  \n",
       "497         1             0.93  \n",
       "498         0             0.73  \n",
       "499         0             0.84  "
      ]
     },
     "execution_count": 5,
     "metadata": {},
     "output_type": "execute_result"
    }
   ],
   "source": [
    "admission_df.tail()"
   ]
  },
  {
   "cell_type": "code",
   "execution_count": 6,
   "id": "c285d69e",
   "metadata": {},
   "outputs": [
    {
     "name": "stdout",
     "output_type": "stream",
     "text": [
      "<class 'pandas.core.frame.DataFrame'>\n",
      "RangeIndex: 500 entries, 0 to 499\n",
      "Data columns (total 9 columns):\n",
      " #   Column             Non-Null Count  Dtype  \n",
      "---  ------             --------------  -----  \n",
      " 0   Serial No.         500 non-null    int64  \n",
      " 1   GRE Score          500 non-null    int64  \n",
      " 2   TOEFL Score        500 non-null    int64  \n",
      " 3   University Rating  500 non-null    int64  \n",
      " 4   SOP                500 non-null    float64\n",
      " 5   LOR                500 non-null    float64\n",
      " 6   CGPA               500 non-null    float64\n",
      " 7   Research           500 non-null    int64  \n",
      " 8   Chance of Admit    500 non-null    float64\n",
      "dtypes: float64(4), int64(5)\n",
      "memory usage: 35.3 KB\n"
     ]
    }
   ],
   "source": [
    "admission_df.info()"
   ]
  },
  {
   "cell_type": "code",
   "execution_count": 7,
   "id": "b12def41",
   "metadata": {},
   "outputs": [
    {
     "data": {
      "text/plain": [
       "Serial No.           0\n",
       "GRE Score            0\n",
       "TOEFL Score          0\n",
       "University Rating    0\n",
       "SOP                  0\n",
       "LOR                  0\n",
       "CGPA                 0\n",
       "Research             0\n",
       "Chance of Admit      0\n",
       "dtype: int64"
      ]
     },
     "execution_count": 7,
     "metadata": {},
     "output_type": "execute_result"
    }
   ],
   "source": [
    "# checking missing/null values\n",
    "\n",
    "admission_df.isnull().sum()"
   ]
  },
  {
   "cell_type": "code",
   "execution_count": 8,
   "id": "3b28eca8",
   "metadata": {},
   "outputs": [
    {
     "data": {
      "text/html": [
       "<div>\n",
       "<style scoped>\n",
       "    .dataframe tbody tr th:only-of-type {\n",
       "        vertical-align: middle;\n",
       "    }\n",
       "\n",
       "    .dataframe tbody tr th {\n",
       "        vertical-align: top;\n",
       "    }\n",
       "\n",
       "    .dataframe thead th {\n",
       "        text-align: right;\n",
       "    }\n",
       "</style>\n",
       "<table border=\"1\" class=\"dataframe\">\n",
       "  <thead>\n",
       "    <tr style=\"text-align: right;\">\n",
       "      <th></th>\n",
       "      <th>Serial No.</th>\n",
       "      <th>GRE Score</th>\n",
       "      <th>TOEFL Score</th>\n",
       "      <th>University Rating</th>\n",
       "      <th>SOP</th>\n",
       "      <th>LOR</th>\n",
       "      <th>CGPA</th>\n",
       "      <th>Research</th>\n",
       "      <th>Chance of Admit</th>\n",
       "    </tr>\n",
       "  </thead>\n",
       "  <tbody>\n",
       "    <tr>\n",
       "      <th>count</th>\n",
       "      <td>500.000000</td>\n",
       "      <td>500.000000</td>\n",
       "      <td>500.000000</td>\n",
       "      <td>500.000000</td>\n",
       "      <td>500.000000</td>\n",
       "      <td>500.00000</td>\n",
       "      <td>500.000000</td>\n",
       "      <td>500.000000</td>\n",
       "      <td>500.00000</td>\n",
       "    </tr>\n",
       "    <tr>\n",
       "      <th>mean</th>\n",
       "      <td>250.500000</td>\n",
       "      <td>316.472000</td>\n",
       "      <td>107.192000</td>\n",
       "      <td>3.114000</td>\n",
       "      <td>3.374000</td>\n",
       "      <td>3.48400</td>\n",
       "      <td>8.576440</td>\n",
       "      <td>0.560000</td>\n",
       "      <td>0.72174</td>\n",
       "    </tr>\n",
       "    <tr>\n",
       "      <th>std</th>\n",
       "      <td>144.481833</td>\n",
       "      <td>11.295148</td>\n",
       "      <td>6.081868</td>\n",
       "      <td>1.143512</td>\n",
       "      <td>0.991004</td>\n",
       "      <td>0.92545</td>\n",
       "      <td>0.604813</td>\n",
       "      <td>0.496884</td>\n",
       "      <td>0.14114</td>\n",
       "    </tr>\n",
       "    <tr>\n",
       "      <th>min</th>\n",
       "      <td>1.000000</td>\n",
       "      <td>290.000000</td>\n",
       "      <td>92.000000</td>\n",
       "      <td>1.000000</td>\n",
       "      <td>1.000000</td>\n",
       "      <td>1.00000</td>\n",
       "      <td>6.800000</td>\n",
       "      <td>0.000000</td>\n",
       "      <td>0.34000</td>\n",
       "    </tr>\n",
       "    <tr>\n",
       "      <th>25%</th>\n",
       "      <td>125.750000</td>\n",
       "      <td>308.000000</td>\n",
       "      <td>103.000000</td>\n",
       "      <td>2.000000</td>\n",
       "      <td>2.500000</td>\n",
       "      <td>3.00000</td>\n",
       "      <td>8.127500</td>\n",
       "      <td>0.000000</td>\n",
       "      <td>0.63000</td>\n",
       "    </tr>\n",
       "    <tr>\n",
       "      <th>50%</th>\n",
       "      <td>250.500000</td>\n",
       "      <td>317.000000</td>\n",
       "      <td>107.000000</td>\n",
       "      <td>3.000000</td>\n",
       "      <td>3.500000</td>\n",
       "      <td>3.50000</td>\n",
       "      <td>8.560000</td>\n",
       "      <td>1.000000</td>\n",
       "      <td>0.72000</td>\n",
       "    </tr>\n",
       "    <tr>\n",
       "      <th>75%</th>\n",
       "      <td>375.250000</td>\n",
       "      <td>325.000000</td>\n",
       "      <td>112.000000</td>\n",
       "      <td>4.000000</td>\n",
       "      <td>4.000000</td>\n",
       "      <td>4.00000</td>\n",
       "      <td>9.040000</td>\n",
       "      <td>1.000000</td>\n",
       "      <td>0.82000</td>\n",
       "    </tr>\n",
       "    <tr>\n",
       "      <th>max</th>\n",
       "      <td>500.000000</td>\n",
       "      <td>340.000000</td>\n",
       "      <td>120.000000</td>\n",
       "      <td>5.000000</td>\n",
       "      <td>5.000000</td>\n",
       "      <td>5.00000</td>\n",
       "      <td>9.920000</td>\n",
       "      <td>1.000000</td>\n",
       "      <td>0.97000</td>\n",
       "    </tr>\n",
       "  </tbody>\n",
       "</table>\n",
       "</div>"
      ],
      "text/plain": [
       "       Serial No.   GRE Score  TOEFL Score  University Rating         SOP  \\\n",
       "count  500.000000  500.000000   500.000000         500.000000  500.000000   \n",
       "mean   250.500000  316.472000   107.192000           3.114000    3.374000   \n",
       "std    144.481833   11.295148     6.081868           1.143512    0.991004   \n",
       "min      1.000000  290.000000    92.000000           1.000000    1.000000   \n",
       "25%    125.750000  308.000000   103.000000           2.000000    2.500000   \n",
       "50%    250.500000  317.000000   107.000000           3.000000    3.500000   \n",
       "75%    375.250000  325.000000   112.000000           4.000000    4.000000   \n",
       "max    500.000000  340.000000   120.000000           5.000000    5.000000   \n",
       "\n",
       "            LOR         CGPA    Research  Chance of Admit  \n",
       "count  500.00000  500.000000  500.000000        500.00000  \n",
       "mean     3.48400    8.576440    0.560000          0.72174  \n",
       "std      0.92545    0.604813    0.496884          0.14114  \n",
       "min      1.00000    6.800000    0.000000          0.34000  \n",
       "25%      3.00000    8.127500    0.000000          0.63000  \n",
       "50%      3.50000    8.560000    1.000000          0.72000  \n",
       "75%      4.00000    9.040000    1.000000          0.82000  \n",
       "max      5.00000    9.920000    1.000000          0.97000  "
      ]
     },
     "execution_count": 8,
     "metadata": {},
     "output_type": "execute_result"
    }
   ],
   "source": [
    "# Doing Descriptive Analysis\n",
    "\n",
    "admission_df.describe()"
   ]
  },
  {
   "cell_type": "code",
   "execution_count": 9,
   "id": "a7a52487",
   "metadata": {},
   "outputs": [
    {
     "data": {
      "text/html": [
       "<div>\n",
       "<style scoped>\n",
       "    .dataframe tbody tr th:only-of-type {\n",
       "        vertical-align: middle;\n",
       "    }\n",
       "\n",
       "    .dataframe tbody tr th {\n",
       "        vertical-align: top;\n",
       "    }\n",
       "\n",
       "    .dataframe thead th {\n",
       "        text-align: right;\n",
       "    }\n",
       "</style>\n",
       "<table border=\"1\" class=\"dataframe\">\n",
       "  <thead>\n",
       "    <tr style=\"text-align: right;\">\n",
       "      <th></th>\n",
       "      <th>Serial No.</th>\n",
       "      <th>GRE Score</th>\n",
       "      <th>TOEFL Score</th>\n",
       "      <th>SOP</th>\n",
       "      <th>LOR</th>\n",
       "      <th>CGPA</th>\n",
       "      <th>Research</th>\n",
       "      <th>Chance of Admit</th>\n",
       "    </tr>\n",
       "    <tr>\n",
       "      <th>University Rating</th>\n",
       "      <th></th>\n",
       "      <th></th>\n",
       "      <th></th>\n",
       "      <th></th>\n",
       "      <th></th>\n",
       "      <th></th>\n",
       "      <th></th>\n",
       "      <th></th>\n",
       "    </tr>\n",
       "  </thead>\n",
       "  <tbody>\n",
       "    <tr>\n",
       "      <th>1</th>\n",
       "      <td>281.558824</td>\n",
       "      <td>304.911765</td>\n",
       "      <td>100.205882</td>\n",
       "      <td>1.941176</td>\n",
       "      <td>2.426471</td>\n",
       "      <td>7.798529</td>\n",
       "      <td>0.294118</td>\n",
       "      <td>0.562059</td>\n",
       "    </tr>\n",
       "    <tr>\n",
       "      <th>2</th>\n",
       "      <td>249.555556</td>\n",
       "      <td>309.134921</td>\n",
       "      <td>103.444444</td>\n",
       "      <td>2.682540</td>\n",
       "      <td>2.956349</td>\n",
       "      <td>8.177778</td>\n",
       "      <td>0.293651</td>\n",
       "      <td>0.626111</td>\n",
       "    </tr>\n",
       "    <tr>\n",
       "      <th>3</th>\n",
       "      <td>247.574074</td>\n",
       "      <td>315.030864</td>\n",
       "      <td>106.314815</td>\n",
       "      <td>3.308642</td>\n",
       "      <td>3.401235</td>\n",
       "      <td>8.500123</td>\n",
       "      <td>0.537037</td>\n",
       "      <td>0.702901</td>\n",
       "    </tr>\n",
       "    <tr>\n",
       "      <th>4</th>\n",
       "      <td>275.809524</td>\n",
       "      <td>323.304762</td>\n",
       "      <td>110.961905</td>\n",
       "      <td>4.000000</td>\n",
       "      <td>3.947619</td>\n",
       "      <td>8.936667</td>\n",
       "      <td>0.780952</td>\n",
       "      <td>0.801619</td>\n",
       "    </tr>\n",
       "    <tr>\n",
       "      <th>5</th>\n",
       "      <td>207.753425</td>\n",
       "      <td>327.890411</td>\n",
       "      <td>113.438356</td>\n",
       "      <td>4.479452</td>\n",
       "      <td>4.404110</td>\n",
       "      <td>9.278082</td>\n",
       "      <td>0.876712</td>\n",
       "      <td>0.888082</td>\n",
       "    </tr>\n",
       "  </tbody>\n",
       "</table>\n",
       "</div>"
      ],
      "text/plain": [
       "                   Serial No.   GRE Score  TOEFL Score       SOP      LOR   \\\n",
       "University Rating                                                            \n",
       "1                  281.558824  304.911765   100.205882  1.941176  2.426471   \n",
       "2                  249.555556  309.134921   103.444444  2.682540  2.956349   \n",
       "3                  247.574074  315.030864   106.314815  3.308642  3.401235   \n",
       "4                  275.809524  323.304762   110.961905  4.000000  3.947619   \n",
       "5                  207.753425  327.890411   113.438356  4.479452  4.404110   \n",
       "\n",
       "                       CGPA  Research  Chance of Admit  \n",
       "University Rating                                       \n",
       "1                  7.798529  0.294118         0.562059  \n",
       "2                  8.177778  0.293651         0.626111  \n",
       "3                  8.500123  0.537037         0.702901  \n",
       "4                  8.936667  0.780952         0.801619  \n",
       "5                  9.278082  0.876712         0.888082  "
      ]
     },
     "execution_count": 9,
     "metadata": {},
     "output_type": "execute_result"
    }
   ],
   "source": [
    "# Grouping 1 - \n",
    "\n",
    "df_university = admission_df.groupby(by='University Rating').mean()\n",
    "\n",
    "df_university\n"
   ]
  },
  {
   "cell_type": "code",
   "execution_count": 10,
   "id": "b2e31217",
   "metadata": {},
   "outputs": [
    {
     "data": {
      "text/plain": [
       "array([[<AxesSubplot:title={'center':'Serial No.'}>,\n",
       "        <AxesSubplot:title={'center':'GRE Score'}>,\n",
       "        <AxesSubplot:title={'center':'TOEFL Score'}>],\n",
       "       [<AxesSubplot:title={'center':'University Rating'}>,\n",
       "        <AxesSubplot:title={'center':'SOP'}>,\n",
       "        <AxesSubplot:title={'center':'LOR '}>],\n",
       "       [<AxesSubplot:title={'center':'CGPA'}>,\n",
       "        <AxesSubplot:title={'center':'Research'}>,\n",
       "        <AxesSubplot:title={'center':'Chance of Admit'}>]], dtype=object)"
      ]
     },
     "execution_count": 10,
     "metadata": {},
     "output_type": "execute_result"
    },
    {
     "data": {
      "image/png": "[encoded data removed]",
      "text/plain": [
       "<Figure size 1500x1500 with 9 Axes>"
      ]
     },
     "metadata": {},
     "output_type": "display_data"
    }
   ],
   "source": [
    "# Histogram for Features\n",
    "\n",
    "admission_df.hist(bins=30, figsize=(15,15))"
   ]
  },
  {
   "cell_type": "code",
   "execution_count": 11,
   "id": "a917f64c",
   "metadata": {},
   "outputs": [
    {
     "data": {
      "image/png": "[encoded data removed]",
      "text/plain": [
       "<Figure size 1000x1000 with 2 Axes>"
      ]
     },
     "metadata": {},
     "output_type": "display_data"
    }
   ],
   "source": [
    "# Correlation Matrix/Correlation Grid \n",
    "\n",
    "corr_matrix = admission_df.corr()\n",
    "plt.figure(figsize=(10,10))\n",
    "sns.heatmap(corr_matrix,annot=True)\n",
    "plt.show()"
   ]
  },
  {
   "cell_type": "code",
   "execution_count": 12,
   "id": "0db1baf3",
   "metadata": {},
   "outputs": [
    {
     "data": {
      "text/plain": [
       "Index(['Serial No.', 'GRE Score', 'TOEFL Score', 'University Rating', 'SOP',\n",
       "       'LOR ', 'CGPA', 'Research', 'Chance of Admit'],\n",
       "      dtype='object')"
      ]
     },
     "execution_count": 12,
     "metadata": {},
     "output_type": "execute_result"
    }
   ],
   "source": [
    "# List of columns \n",
    "\n",
    "admission_df.columns"
   ]
  },
  {
   "cell_type": "code",
   "execution_count": 13,
   "id": "963437e7",
   "metadata": {},
   "outputs": [],
   "source": [
    "X = admission_df.drop(columns=['Chance of Admit'])"
   ]
  },
  {
   "cell_type": "code",
   "execution_count": 14,
   "id": "a9bef2b8",
   "metadata": {},
   "outputs": [],
   "source": [
    "y = admission_df['Chance of Admit']"
   ]
  },
  {
   "cell_type": "code",
   "execution_count": 15,
   "id": "7bae1df7",
   "metadata": {},
   "outputs": [
    {
     "data": {
      "text/plain": [
       "(500, 8)"
      ]
     },
     "execution_count": 15,
     "metadata": {},
     "output_type": "execute_result"
    }
   ],
   "source": [
    "X.shape"
   ]
  },
  {
   "cell_type": "code",
   "execution_count": 16,
   "id": "f3bddac7",
   "metadata": {},
   "outputs": [
    {
     "data": {
      "text/plain": [
       "(500,)"
      ]
     },
     "execution_count": 16,
     "metadata": {},
     "output_type": "execute_result"
    }
   ],
   "source": [
    "y.shape"
   ]
  },
  {
   "cell_type": "code",
   "execution_count": 17,
   "id": "f98cb622",
   "metadata": {},
   "outputs": [],
   "source": [
    "X = np.array(X)\n",
    "y = np.array(y)"
   ]
  },
  {
   "cell_type": "code",
   "execution_count": 18,
   "id": "11e30046",
   "metadata": {},
   "outputs": [],
   "source": [
    "# Splitting Dataset into Train-Test \n",
    "\n",
    "from sklearn.preprocessing import StandardScaler, MinMaxScaler\n",
    "scaler_X = StandardScaler()\n",
    "X = scaler_X.fit_transform(X)"
   ]
  },
  {
   "cell_type": "code",
   "execution_count": 19,
   "id": "75a6d3eb",
   "metadata": {},
   "outputs": [
    {
     "data": {
      "text/plain": [
       "(500, 1)"
      ]
     },
     "execution_count": 19,
     "metadata": {},
     "output_type": "execute_result"
    }
   ],
   "source": [
    "y = y.reshape(-1,1)\n",
    "y.shape"
   ]
  },
  {
   "cell_type": "code",
   "execution_count": 20,
   "id": "0e318d8f",
   "metadata": {},
   "outputs": [],
   "source": [
    "scaler_y = StandardScaler()\n",
    "y = scaler_y.fit_transform(y)"
   ]
  },
  {
   "cell_type": "code",
   "execution_count": 21,
   "id": "75b0a530",
   "metadata": {},
   "outputs": [],
   "source": [
    "from sklearn.model_selection import train_test_split\n",
    "X_train,X_test,y_train,y_test= train_test_split(X,y,test_size=0.15)"
   ]
  },
  {
   "cell_type": "code",
   "execution_count": 22,
   "id": "4b0cb5bc",
   "metadata": {},
   "outputs": [],
   "source": [
    "# Running MLR \n",
    "\n",
    "from sklearn.linear_model import LinearRegression\n",
    "from sklearn.metrics import mean_squared_error,accuracy_score"
   ]
  },
  {
   "cell_type": "code",
   "execution_count": 23,
   "id": "9a7af99a",
   "metadata": {},
   "outputs": [
    {
     "data": {
      "text/plain": [
       "LinearRegression()"
      ]
     },
     "execution_count": 23,
     "metadata": {},
     "output_type": "execute_result"
    }
   ],
   "source": [
    "LinearRegression_model=LinearRegression()\n",
    "LinearRegression_model.fit(X_train,y_train)"
   ]
  },
  {
   "cell_type": "code",
   "execution_count": 24,
   "id": "62b2aada",
   "metadata": {},
   "outputs": [
    {
     "data": {
      "text/plain": [
       "0.8152995468579229"
      ]
     },
     "execution_count": 24,
     "metadata": {},
     "output_type": "execute_result"
    }
   ],
   "source": [
    "accuracy_LinearRegression=LinearRegression_model.score(X_test,y_test)\n",
    "accuracy_LinearRegression"
   ]
  },
  {
   "cell_type": "code",
   "execution_count": 30,
   "id": "e72e3da9",
   "metadata": {},
   "outputs": [
    {
     "name": "stdout",
     "output_type": "stream",
     "text": [
      "(425, 8)\n"
     ]
    }
   ],
   "source": [
    "print(X_train.shape)"
   ]
  },
  {
   "cell_type": "code",
   "execution_count": 31,
   "id": "cd75c861",
   "metadata": {},
   "outputs": [
    {
     "name": "stdout",
     "output_type": "stream",
     "text": [
      "(425, 1)\n"
     ]
    }
   ],
   "source": [
    "print(y_train.shape)"
   ]
  },
  {
   "cell_type": "code",
   "execution_count": 32,
   "id": "2a0a6626",
   "metadata": {},
   "outputs": [],
   "source": [
    "from keras.models import Sequential\n",
    "from keras.layers import Dense"
   ]
  },
  {
   "cell_type": "code",
   "execution_count": 33,
   "id": "b41980af",
   "metadata": {},
   "outputs": [],
   "source": [
    "# Define the model\n",
    "input_shape = (8,)  # Since X_train has 8 features"
   ]
  },
  {
   "cell_type": "code",
   "execution_count": 34,
   "id": "b03e3666",
   "metadata": {},
   "outputs": [],
   "source": [
    "ANN_model = Sequential()\n",
    "ANN_model.add(Dense(units=64, activation='relu', input_shape=input_shape))\n",
    "ANN_model.add(Dense(units=32, activation='relu'))\n",
    "ANN_model.add(Dense(units=1, activation='linear'))"
   ]
  },
  {
   "cell_type": "code",
   "execution_count": 35,
   "id": "2c599714",
   "metadata": {},
   "outputs": [],
   "source": [
    "ANN_model.compile(optimizer='Adam', loss='mean_squared_error')"
   ]
  },
  {
   "cell_type": "code",
   "execution_count": 36,
   "id": "7185e418",
   "metadata": {},
   "outputs": [
    {
     "name": "stdout",
     "output_type": "stream",
     "text": [
      "Epoch 1/100\n",
      "17/17 [==============================] - 1s 8ms/step - loss: 0.6418 - val_loss: 0.3665\n",
      "Epoch 2/100\n",
      "17/17 [==============================] - 0s 2ms/step - loss: 0.2372 - val_loss: 0.2550\n",
      "Epoch 3/100\n",
      "17/17 [==============================] - 0s 2ms/step - loss: 0.1879 - val_loss: 0.2133\n",
      "Epoch 4/100\n",
      "17/17 [==============================] - 0s 2ms/step - loss: 0.1665 - val_loss: 0.1962\n",
      "Epoch 5/100\n",
      "17/17 [==============================] - 0s 2ms/step - loss: 0.1558 - val_loss: 0.1992\n",
      "Epoch 6/100\n",
      "17/17 [==============================] - 0s 2ms/step - loss: 0.1485 - val_loss: 0.1904\n",
      "Epoch 7/100\n",
      "17/17 [==============================] - 0s 2ms/step - loss: 0.1438 - val_loss: 0.1965\n",
      "Epoch 8/100\n",
      "17/17 [==============================] - 0s 2ms/step - loss: 0.1385 - val_loss: 0.1897\n",
      "Epoch 9/100\n",
      "17/17 [==============================] - 0s 2ms/step - loss: 0.1350 - val_loss: 0.1953\n",
      "Epoch 10/100\n",
      "17/17 [==============================] - 0s 2ms/step - loss: 0.1326 - val_loss: 0.1991\n",
      "Epoch 11/100\n",
      "17/17 [==============================] - 0s 2ms/step - loss: 0.1307 - val_loss: 0.1913\n",
      "Epoch 12/100\n",
      "17/17 [==============================] - 0s 2ms/step - loss: 0.1250 - val_loss: 0.1953\n",
      "Epoch 13/100\n",
      "17/17 [==============================] - 0s 2ms/step - loss: 0.1217 - val_loss: 0.1985\n",
      "Epoch 14/100\n",
      "17/17 [==============================] - 0s 2ms/step - loss: 0.1208 - val_loss: 0.1918\n",
      "Epoch 15/100\n",
      "17/17 [==============================] - 0s 2ms/step - loss: 0.1184 - val_loss: 0.2010\n",
      "Epoch 16/100\n",
      "17/17 [==============================] - 0s 2ms/step - loss: 0.1163 - val_loss: 0.1928\n",
      "Epoch 17/100\n",
      "17/17 [==============================] - 0s 2ms/step - loss: 0.1139 - val_loss: 0.2013\n",
      "Epoch 18/100\n",
      "17/17 [==============================] - 0s 2ms/step - loss: 0.1116 - val_loss: 0.2023\n",
      "Epoch 19/100\n",
      "17/17 [==============================] - 0s 2ms/step - loss: 0.1094 - val_loss: 0.1990\n",
      "Epoch 20/100\n",
      "17/17 [==============================] - 0s 2ms/step - loss: 0.1080 - val_loss: 0.1988\n",
      "Epoch 21/100\n",
      "17/17 [==============================] - 0s 2ms/step - loss: 0.1055 - val_loss: 0.2003\n",
      "Epoch 22/100\n",
      "17/17 [==============================] - 0s 2ms/step - loss: 0.1052 - val_loss: 0.1969\n",
      "Epoch 23/100\n",
      "17/17 [==============================] - 0s 2ms/step - loss: 0.1033 - val_loss: 0.1971\n",
      "Epoch 24/100\n",
      "17/17 [==============================] - 0s 3ms/step - loss: 0.0997 - val_loss: 0.2044\n",
      "Epoch 25/100\n",
      "17/17 [==============================] - 0s 3ms/step - loss: 0.0983 - val_loss: 0.2007\n",
      "Epoch 26/100\n",
      "17/17 [==============================] - 0s 3ms/step - loss: 0.0967 - val_loss: 0.2080\n",
      "Epoch 27/100\n",
      "17/17 [==============================] - 0s 3ms/step - loss: 0.0954 - val_loss: 0.1982\n",
      "Epoch 28/100\n",
      "17/17 [==============================] - 0s 3ms/step - loss: 0.0941 - val_loss: 0.2035\n",
      "Epoch 29/100\n",
      "17/17 [==============================] - 0s 3ms/step - loss: 0.0933 - val_loss: 0.2150\n",
      "Epoch 30/100\n",
      "17/17 [==============================] - 0s 3ms/step - loss: 0.0944 - val_loss: 0.1991\n",
      "Epoch 31/100\n",
      "17/17 [==============================] - 0s 3ms/step - loss: 0.0893 - val_loss: 0.2028\n",
      "Epoch 32/100\n",
      "17/17 [==============================] - 0s 3ms/step - loss: 0.0894 - val_loss: 0.2010\n",
      "Epoch 33/100\n",
      "17/17 [==============================] - 0s 2ms/step - loss: 0.0872 - val_loss: 0.2204\n",
      "Epoch 34/100\n",
      "17/17 [==============================] - 0s 3ms/step - loss: 0.0870 - val_loss: 0.1945\n",
      "Epoch 35/100\n",
      "17/17 [==============================] - 0s 3ms/step - loss: 0.0859 - val_loss: 0.2348\n",
      "Epoch 36/100\n",
      "17/17 [==============================] - 0s 3ms/step - loss: 0.0921 - val_loss: 0.2137\n",
      "Epoch 37/100\n",
      "17/17 [==============================] - 0s 2ms/step - loss: 0.0836 - val_loss: 0.2120\n",
      "Epoch 38/100\n",
      "17/17 [==============================] - 0s 2ms/step - loss: 0.0825 - val_loss: 0.2070\n",
      "Epoch 39/100\n",
      "17/17 [==============================] - 0s 3ms/step - loss: 0.0814 - val_loss: 0.2148\n",
      "Epoch 40/100\n",
      "17/17 [==============================] - 0s 2ms/step - loss: 0.0802 - val_loss: 0.2105\n",
      "Epoch 41/100\n",
      "17/17 [==============================] - 0s 3ms/step - loss: 0.0778 - val_loss: 0.2201\n",
      "Epoch 42/100\n",
      "17/17 [==============================] - 0s 3ms/step - loss: 0.0796 - val_loss: 0.2166\n",
      "Epoch 43/100\n",
      "17/17 [==============================] - 0s 2ms/step - loss: 0.0757 - val_loss: 0.2082\n",
      "Epoch 44/100\n",
      "17/17 [==============================] - 0s 2ms/step - loss: 0.0744 - val_loss: 0.2234\n",
      "Epoch 45/100\n",
      "17/17 [==============================] - 0s 2ms/step - loss: 0.0753 - val_loss: 0.2092\n",
      "Epoch 46/100\n",
      "17/17 [==============================] - 0s 2ms/step - loss: 0.0723 - val_loss: 0.2126\n",
      "Epoch 47/100\n",
      "17/17 [==============================] - 0s 2ms/step - loss: 0.0722 - val_loss: 0.2229\n",
      "Epoch 48/100\n",
      "17/17 [==============================] - 0s 2ms/step - loss: 0.0698 - val_loss: 0.2092\n",
      "Epoch 49/100\n",
      "17/17 [==============================] - 0s 2ms/step - loss: 0.0708 - val_loss: 0.2095\n",
      "Epoch 50/100\n",
      "17/17 [==============================] - 0s 2ms/step - loss: 0.0689 - val_loss: 0.2170\n",
      "Epoch 51/100\n",
      "17/17 [==============================] - 0s 2ms/step - loss: 0.0680 - val_loss: 0.2195\n",
      "Epoch 52/100\n",
      "17/17 [==============================] - 0s 2ms/step - loss: 0.0654 - val_loss: 0.2129\n",
      "Epoch 53/100\n",
      "17/17 [==============================] - 0s 2ms/step - loss: 0.0684 - val_loss: 0.2294\n",
      "Epoch 54/100\n",
      "17/17 [==============================] - 0s 2ms/step - loss: 0.0636 - val_loss: 0.2053\n",
      "Epoch 55/100\n",
      "17/17 [==============================] - 0s 2ms/step - loss: 0.0633 - val_loss: 0.2195\n",
      "Epoch 56/100\n",
      "17/17 [==============================] - 0s 2ms/step - loss: 0.0620 - val_loss: 0.2202\n",
      "Epoch 57/100\n",
      "17/17 [==============================] - 0s 2ms/step - loss: 0.0622 - val_loss: 0.2176\n",
      "Epoch 58/100\n",
      "17/17 [==============================] - 0s 2ms/step - loss: 0.0617 - val_loss: 0.2196\n",
      "Epoch 59/100\n",
      "17/17 [==============================] - 0s 2ms/step - loss: 0.0588 - val_loss: 0.2137\n",
      "Epoch 60/100\n",
      "17/17 [==============================] - 0s 2ms/step - loss: 0.0591 - val_loss: 0.2173\n",
      "Epoch 61/100\n",
      "17/17 [==============================] - 0s 2ms/step - loss: 0.0571 - val_loss: 0.2357\n",
      "Epoch 62/100\n",
      "17/17 [==============================] - 0s 2ms/step - loss: 0.0585 - val_loss: 0.2270\n",
      "Epoch 63/100\n",
      "17/17 [==============================] - 0s 2ms/step - loss: 0.0565 - val_loss: 0.2284\n",
      "Epoch 64/100\n",
      "17/17 [==============================] - 0s 2ms/step - loss: 0.0538 - val_loss: 0.2250\n",
      "Epoch 65/100\n",
      "17/17 [==============================] - 0s 2ms/step - loss: 0.0534 - val_loss: 0.2149\n",
      "Epoch 66/100\n",
      "17/17 [==============================] - 0s 2ms/step - loss: 0.0523 - val_loss: 0.2392\n",
      "Epoch 67/100\n",
      "17/17 [==============================] - 0s 2ms/step - loss: 0.0527 - val_loss: 0.2196\n",
      "Epoch 68/100\n",
      "17/17 [==============================] - 0s 2ms/step - loss: 0.0515 - val_loss: 0.2145\n",
      "Epoch 69/100\n",
      "17/17 [==============================] - 0s 2ms/step - loss: 0.0514 - val_loss: 0.2624\n",
      "Epoch 70/100\n",
      "17/17 [==============================] - 0s 2ms/step - loss: 0.0482 - val_loss: 0.2157\n",
      "Epoch 71/100\n",
      "17/17 [==============================] - 0s 2ms/step - loss: 0.0516 - val_loss: 0.2252\n",
      "Epoch 72/100\n",
      "17/17 [==============================] - 0s 2ms/step - loss: 0.0496 - val_loss: 0.2291\n",
      "Epoch 73/100\n",
      "17/17 [==============================] - 0s 2ms/step - loss: 0.0464 - val_loss: 0.2278\n",
      "Epoch 74/100\n",
      "17/17 [==============================] - 0s 2ms/step - loss: 0.0456 - val_loss: 0.2364\n",
      "Epoch 75/100\n",
      "17/17 [==============================] - 0s 2ms/step - loss: 0.0456 - val_loss: 0.2266\n",
      "Epoch 76/100\n",
      "17/17 [==============================] - 0s 2ms/step - loss: 0.0446 - val_loss: 0.2323\n",
      "Epoch 77/100\n",
      "17/17 [==============================] - 0s 2ms/step - loss: 0.0416 - val_loss: 0.2218\n",
      "Epoch 78/100\n",
      "17/17 [==============================] - 0s 2ms/step - loss: 0.0446 - val_loss: 0.2289\n",
      "Epoch 79/100\n",
      "17/17 [==============================] - 0s 2ms/step - loss: 0.0429 - val_loss: 0.2220\n",
      "Epoch 80/100\n",
      "17/17 [==============================] - 0s 3ms/step - loss: 0.0412 - val_loss: 0.2309\n",
      "Epoch 81/100\n",
      "17/17 [==============================] - 0s 2ms/step - loss: 0.0405 - val_loss: 0.2433\n",
      "Epoch 82/100\n",
      "17/17 [==============================] - 0s 2ms/step - loss: 0.0387 - val_loss: 0.2401\n",
      "Epoch 83/100\n",
      "17/17 [==============================] - 0s 2ms/step - loss: 0.0399 - val_loss: 0.2296\n",
      "Epoch 84/100\n",
      "17/17 [==============================] - 0s 2ms/step - loss: 0.0394 - val_loss: 0.2587\n",
      "Epoch 85/100\n",
      "17/17 [==============================] - 0s 2ms/step - loss: 0.0392 - val_loss: 0.2330\n",
      "Epoch 86/100\n",
      "17/17 [==============================] - 0s 2ms/step - loss: 0.0365 - val_loss: 0.2240\n",
      "Epoch 87/100\n",
      "17/17 [==============================] - 0s 2ms/step - loss: 0.0355 - val_loss: 0.2501\n",
      "Epoch 88/100\n",
      "17/17 [==============================] - 0s 2ms/step - loss: 0.0357 - val_loss: 0.2471\n",
      "Epoch 89/100\n",
      "17/17 [==============================] - 0s 2ms/step - loss: 0.0345 - val_loss: 0.2306\n",
      "Epoch 90/100\n",
      "17/17 [==============================] - 0s 2ms/step - loss: 0.0350 - val_loss: 0.2395\n",
      "Epoch 91/100\n",
      "17/17 [==============================] - 0s 2ms/step - loss: 0.0330 - val_loss: 0.2293\n",
      "Epoch 92/100\n",
      "17/17 [==============================] - 0s 3ms/step - loss: 0.0331 - val_loss: 0.2368\n",
      "Epoch 93/100\n",
      "17/17 [==============================] - 0s 2ms/step - loss: 0.0348 - val_loss: 0.2411\n",
      "Epoch 94/100\n",
      "17/17 [==============================] - 0s 2ms/step - loss: 0.0316 - val_loss: 0.2786\n",
      "Epoch 95/100\n",
      "17/17 [==============================] - 0s 2ms/step - loss: 0.0333 - val_loss: 0.2422\n",
      "Epoch 96/100\n",
      "17/17 [==============================] - 0s 2ms/step - loss: 0.0313 - val_loss: 0.2437\n",
      "Epoch 97/100\n",
      "17/17 [==============================] - 0s 2ms/step - loss: 0.0297 - val_loss: 0.2489\n",
      "Epoch 98/100\n",
      "17/17 [==============================] - 0s 2ms/step - loss: 0.0300 - val_loss: 0.2511\n",
      "Epoch 99/100\n",
      "17/17 [==============================] - 0s 3ms/step - loss: 0.0282 - val_loss: 0.2382\n",
      "Epoch 100/100\n",
      "17/17 [==============================] - 0s 3ms/step - loss: 0.0293 - val_loss: 0.2341\n"
     ]
    }
   ],
   "source": [
    "epochs_hist = ANN_model.fit(X_train, y_train, epochs=100, batch_size=20, validation_split=0.2)"
   ]
  },
  {
   "cell_type": "code",
   "execution_count": 37,
   "id": "d4ecaf33",
   "metadata": {},
   "outputs": [
    {
     "name": "stdout",
     "output_type": "stream",
     "text": [
      "Model: \"sequential_1\"\n",
      "_________________________________________________________________\n",
      " Layer (type)                Output Shape              Param #   \n",
      "=================================================================\n",
      " dense_5 (Dense)             (None, 64)                576       \n",
      "                                                                 \n",
      " dense_6 (Dense)             (None, 32)                2080      \n",
      "                                                                 \n",
      " dense_7 (Dense)             (None, 1)                 33        \n",
      "                                                                 \n",
      "=================================================================\n",
      "Total params: 2,689\n",
      "Trainable params: 2,689\n",
      "Non-trainable params: 0\n",
      "_________________________________________________________________\n",
      "None\n"
     ]
    }
   ],
   "source": [
    "print(ANN_model.summary())\n"
   ]
  },
  {
   "cell_type": "code",
   "execution_count": 38,
   "id": "524c23e5",
   "metadata": {},
   "outputs": [
    {
     "data": {
      "text/plain": [
       "dict_keys(['loss', 'val_loss'])"
      ]
     },
     "execution_count": 38,
     "metadata": {},
     "output_type": "execute_result"
    }
   ],
   "source": [
    "epochs_hist.history.keys()"
   ]
  },
  {
   "cell_type": "code",
   "execution_count": 39,
   "id": "b81faf8d",
   "metadata": {},
   "outputs": [
    {
     "data": {
      "text/plain": [
       "<matplotlib.legend.Legend at 0x286c62f4c40>"
      ]
     },
     "execution_count": 39,
     "metadata": {},
     "output_type": "execute_result"
    },
    {
     "data": {
      "image/png": "[encoded data removed]",
      "text/plain": [
       "<Figure size 640x480 with 1 Axes>"
      ]
     },
     "metadata": {},
     "output_type": "display_data"
    }
   ],
   "source": [
    "plt.plot(epochs_hist.history['loss'])\n",
    "plt.title('Model Loss Progress During Training')\n",
    "plt.xlabel('Epoch')\n",
    "plt.ylabel('Training Loss')\n",
    "plt.legend(['Training Loss'])"
   ]
  },
  {
   "cell_type": "code",
   "execution_count": 40,
   "id": "4073635e",
   "metadata": {},
   "outputs": [
    {
     "data": {
      "text/plain": [
       "[<matplotlib.lines.Line2D at 0x286c751b310>]"
      ]
     },
     "execution_count": 40,
     "metadata": {},
     "output_type": "execute_result"
    },
    {
     "data": {
      "image/png": "[encoded data removed]",
      "text/plain": [
       "<Figure size 640x480 with 1 Axes>"
      ]
     },
     "metadata": {},
     "output_type": "display_data"
    }
   ],
   "source": [
    "# Regression Model KPIs\n",
    "\n",
    "y_predict=LinearRegression_model.predict(X_test)\n",
    "plt.plot(y_test,y_predict,'^',color='r')"
   ]
  },
  {
   "cell_type": "code",
   "execution_count": 41,
   "id": "aa728a5f",
   "metadata": {},
   "outputs": [],
   "source": [
    "y_predict_orig=scaler_y.inverse_transform(y_predict)\n",
    "y_test_orig=scaler_y.inverse_transform(y_test)"
   ]
  },
  {
   "cell_type": "code",
   "execution_count": 42,
   "id": "e2b23fbc",
   "metadata": {},
   "outputs": [
    {
     "data": {
      "text/plain": [
       "[<matplotlib.lines.Line2D at 0x286c73f5ee0>]"
      ]
     },
     "execution_count": 42,
     "metadata": {},
     "output_type": "execute_result"
    },
    {
     "data": {
      "image/png": "[encoded data removed]",
      "text/plain": [
       "<Figure size 640x480 with 1 Axes>"
      ]
     },
     "metadata": {},
     "output_type": "display_data"
    }
   ],
   "source": [
    "plt.plot(y_test_orig,y_predict_orig,'^',color='r')\n"
   ]
  },
  {
   "cell_type": "code",
   "execution_count": 43,
   "id": "ff92ff89",
   "metadata": {},
   "outputs": [
    {
     "data": {
      "text/plain": [
       "75"
      ]
     },
     "execution_count": 43,
     "metadata": {},
     "output_type": "execute_result"
    }
   ],
   "source": [
    "k = X_test.shape[1]\n",
    "n = len(X_test)\n",
    "n"
   ]
  },
  {
   "cell_type": "code",
   "execution_count": 44,
   "id": "68b4c206",
   "metadata": {},
   "outputs": [
    {
     "name": "stdout",
     "output_type": "stream",
     "text": [
      "RMSE = 0.064 \n",
      "MSE = 0.004046663794707481 \n",
      "MAE = 0.04377177324916809 \n",
      "R2 = 0.8152995468579228 \n",
      "Adjusted R2 = 0.7929116131437317\n"
     ]
    }
   ],
   "source": [
    "from sklearn.metrics import r2_score, mean_squared_error, mean_absolute_error\n",
    "from math import sqrt\n",
    "\n",
    "RMSE = float(format(np.sqrt(mean_squared_error(y_test_orig, y_predict_orig)),'.3f'))\n",
    "MSE = mean_squared_error(y_test_orig, y_predict_orig)\n",
    "MAE = mean_absolute_error(y_test_orig, y_predict_orig)\n",
    "r2 = r2_score(y_test_orig, y_predict_orig)\n",
    "adj_r2 = 1-(1-r2)*(n-1)/(n-k-1)\n",
    "\n",
    "print('RMSE =',RMSE, '\\nMSE =',MSE, '\\nMAE =',MAE, '\\nR2 =', r2, '\\nAdjusted R2 =', adj_r2) "
   ]
  },
  {
   "cell_type": "code",
   "execution_count": null,
   "id": "222bf7c4",
   "metadata": {},
   "outputs": [],
   "source": [
    "# XAI (Explainable AI)  "
   ]
  }
 ],
 "metadata": {
  "kernelspec": {
   "display_name": "Python 3 (ipykernel)",
   "language": "python",
   "name": "python3"
  },
  "language_info": {
   "codemirror_mode": {
    "name": "ipython",
    "version": 3
   },
   "file_extension": ".py",
   "mimetype": "text/x-python",
   "name": "python",
   "nbconvert_exporter": "python",
   "pygments_lexer": "ipython3",
   "version": "3.9.13"
  }
 },
 "nbformat": 4,
 "nbformat_minor": 5
}
